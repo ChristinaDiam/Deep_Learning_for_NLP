{
 "cells": [
  {
   "cell_type": "markdown",
   "metadata": {},
   "source": [
    "## Artificial Intelligence II\n",
    "### Deep Learning for Natural Language Processing"
   ]
  },
  {
   "cell_type": "markdown",
   "metadata": {},
   "source": [
    "In this assignment, we develop a sentiment classifier using only **Logistic Regression** and only **TF-IDF** in Python on a given Twitter dataset.  \n",
    "The dataset consists of three files: *train_dataset.csv, val_dataset.csv, test_dataset.csv*.  \n",
    "Train and Val consists of three columns: **ID, Text, Label**, and Test consists of two columns: **ID, Text**."
   ]
  },
  {
   "cell_type": "code",
   "execution_count": 21,
   "metadata": {},
   "outputs": [],
   "source": [
    "# Import libraries\n",
    "\n",
    "import pandas as pd\n",
    "import warnings\n",
    "import re\n",
    "#import nltk\n",
    "#from nltk.corpus import stopwords"
   ]
  },
  {
   "cell_type": "code",
   "execution_count": 22,
   "metadata": {},
   "outputs": [],
   "source": [
    "warnings.filterwarnings(\"ignore\")"
   ]
  },
  {
   "cell_type": "markdown",
   "metadata": {},
   "source": [
    "First we load the given data"
   ]
  },
  {
   "cell_type": "code",
   "execution_count": 23,
   "metadata": {},
   "outputs": [],
   "source": [
    "# Read train dataset (to use for training)\n",
    "df_train = pd.read_csv('datasets/train_dataset.csv')\n",
    "\n",
    "# Read val dataset (to use for validation of training)\n",
    "df_val = pd.read_csv('datasets/val_dataset.csv')\n",
    "\n",
    "# Read test dataset (to use for predictions)\n",
    "df_test = pd.read_csv('datasets/test_dataset.csv')"
   ]
  },
  {
   "cell_type": "markdown",
   "metadata": {},
   "source": [
    "#### Data cleaning"
   ]
  },
  {
   "cell_type": "code",
   "execution_count": 24,
   "metadata": {},
   "outputs": [],
   "source": [
    "# Drop duplicate values \n",
    "df_train = df_train.drop_duplicates().reset_index(drop=True)\n",
    "df_val = df_val.drop_duplicates().reset_index(drop=True)\n",
    "df_test = df_test.drop_duplicates().reset_index(drop=True)"
   ]
  },
  {
   "cell_type": "code",
   "execution_count": null,
   "metadata": {},
   "outputs": [],
   "source": [
    "# Function to clean text\n",
    "\n",
    "def clean_text(text):\n",
    "    # Remove URLs\n",
    "    text = re.sub(r'http\\S+|www\\S+', '', text)\n",
    "    # Remove mentions/usernames\n",
    "    text = re.sub(r'@\\w+', '', text)\n",
    "    # Remove numbers and characters\n",
    "    text = re.sub(r'[^a-zA-Z\\s]', '', text)\n",
    "    # Convert to lowercase\n",
    "    text = text.lower()\n",
    "\n",
    "    return text\n",
    "\n",
    "\n",
    "# Clean only Text column\n",
    "df_train['Text'] = df_train['Text'].apply(clean_text)\n",
    "df_val['Text'] = df_val['Text'].apply(clean_text)\n",
    "df_test['Text'] = df_train['Text'].apply(clean_text)"
   ]
  },
  {
   "cell_type": "code",
   "execution_count": null,
   "metadata": {},
   "outputs": [],
   "source": [
    "# Drop NaN values\n",
    "df_train = df_train.replace(r'^\\s*$', pd.NA, regex=True).dropna()\n",
    "df_val = df_val.replace(r'^\\s*$', pd.NA, regex=True).dropna()\n",
    "df_test = df_test.replace(r'^\\s*$', pd.NA, regex=True).dropna()"
   ]
  },
  {
   "cell_type": "code",
   "execution_count": null,
   "metadata": {},
   "outputs": [],
   "source": [
    "# Remove stopwords\n",
    "#nltk.download('stopwords')\n",
    "\n",
    "# Load english stopwords\n",
    "#stop_words = set(stopwords.words('english'))"
   ]
  }
 ],
 "metadata": {
  "kernelspec": {
   "display_name": "Python 3",
   "language": "python",
   "name": "python3"
  },
  "language_info": {
   "codemirror_mode": {
    "name": "ipython",
    "version": 3
   },
   "file_extension": ".py",
   "mimetype": "text/x-python",
   "name": "python",
   "nbconvert_exporter": "python",
   "pygments_lexer": "ipython3",
   "version": "3.12.3"
  }
 },
 "nbformat": 4,
 "nbformat_minor": 2
}
